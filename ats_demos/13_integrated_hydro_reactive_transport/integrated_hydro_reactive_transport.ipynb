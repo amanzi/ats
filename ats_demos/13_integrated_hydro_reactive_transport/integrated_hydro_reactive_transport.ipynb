{
 "cells": [
  {
   "cell_type": "markdown",
   "metadata": {},
   "source": [
    "# Integrated Hydrology and Reactive Transport"
   ]
  },
  {
   "cell_type": "markdown",
   "metadata": {},
   "source": [
    "This is a series of problems to test and demonstrate the reactive transport component of ATS in the context of integrated hydrology problems. The focus is thus on the reactive transport component. To learn more about the integrated hydrology, please refer to the integrated hydro demo. \n",
    "\n",
    "Tests demonstrate a 1D column (showing dry-to-wet transition with a tracer present in the rainwater that is transported into the subsurface), and a 2D hillslope problem (showing dry-wet cycles driving rainwater infiltration into the subsurface, which in turn drive mineral dissolution, as well as surface runoff, which dilutes the groundwater discharge).\n",
    "\n",
    "Documentation of this demo is in the early stages of development.\n",
    "\n",
    "Author: Sergi Molins"
   ]
  },
  {
   "cell_type": "code",
   "execution_count": 1,
   "metadata": {},
   "outputs": [],
   "source": [
    "import os, sys\n",
    "import numpy as np\n",
    "import numpy.ma as ma\n",
    "import matplotlib.pyplot as plt\n",
    "sys.path.append(os.path.join(os.environ['ATS_SRC_DIR'],'tools', 'utils'))\n",
    "import ats_xdmf\n",
    "%matplotlib inline"
   ]
  },
  {
   "cell_type": "markdown",
   "metadata": {},
   "source": [
    "## Example: 1D infiltration and transport of conservative tracer\n",
    "\n",
    "In this example, we rain on a column, then turn off the rain.  Initially the column is partially saturated. Over time, the column saturates and ponded water expresses on the surface.  A conservative tracer is present in the rainwater but not in the subsurface initially, thus infiltration of rainwater results in concentrations of the tracer in the subsurface. When water ponds on the surface, the concentration of the tracer in the surface water is that of the rainwater. \n",
    "\n",
    "This demonstrates the dry-to-wet transitions and solute mass exchange between surface and subsurface."
   ]
  },
  {
   "cell_type": "code",
   "execution_count": 2,
   "metadata": {},
   "outputs": [
    {
     "ename": "RuntimeError",
     "evalue": "Cannot load ATS XDMF h5 file at: ats_vis_data.h5",
     "output_type": "error",
     "traceback": [
      "\u001b[0;31m---------------------------------------------------------------------------\u001b[0m",
      "\u001b[0;31mRuntimeError\u001b[0m                              Traceback (most recent call last)",
      "\u001b[0;32m/var/folders/lw/15z_m4610jj7s4xrkp96ldt0gh4qx_/T/ipykernel_3409/211909028.py\u001b[0m in \u001b[0;36m<module>\u001b[0;34m\u001b[0m\n\u001b[1;32m      1\u001b[0m \u001b[0;31m# load the ATS solution\u001b[0m\u001b[0;34m\u001b[0m\u001b[0;34m\u001b[0m\u001b[0m\n\u001b[1;32m      2\u001b[0m \u001b[0mdirectory\u001b[0m \u001b[0;34m=\u001b[0m \u001b[0;34m\"\"\u001b[0m\u001b[0;34m\u001b[0m\u001b[0;34m\u001b[0m\u001b[0m\n\u001b[0;32m----> 3\u001b[0;31m \u001b[0mvis\u001b[0m \u001b[0;34m=\u001b[0m \u001b[0mats_xdmf\u001b[0m\u001b[0;34m.\u001b[0m\u001b[0mVisFile\u001b[0m\u001b[0;34m(\u001b[0m\u001b[0mdirectory\u001b[0m\u001b[0;34m)\u001b[0m\u001b[0;34m\u001b[0m\u001b[0;34m\u001b[0m\u001b[0m\n\u001b[0m\u001b[1;32m      4\u001b[0m \u001b[0mvis\u001b[0m\u001b[0;34m.\u001b[0m\u001b[0mloadMesh\u001b[0m\u001b[0;34m(\u001b[0m\u001b[0mcolumnar\u001b[0m\u001b[0;34m=\u001b[0m\u001b[0;32mTrue\u001b[0m\u001b[0;34m)\u001b[0m\u001b[0;34m\u001b[0m\u001b[0;34m\u001b[0m\u001b[0m\n",
      "\u001b[0;32m/Users/Shared/ornldev/code/ats/ats/repos/master/src/physics/ats/tools/utils/ats_xdmf.py\u001b[0m in \u001b[0;36m__init__\u001b[0;34m(self, directory, domain, filename, mesh_filename, time_unit)\u001b[0m\n\u001b[1;32m     78\u001b[0m         \u001b[0mself\u001b[0m\u001b[0;34m.\u001b[0m\u001b[0mfname\u001b[0m \u001b[0;34m=\u001b[0m \u001b[0mos\u001b[0m\u001b[0;34m.\u001b[0m\u001b[0mpath\u001b[0m\u001b[0;34m.\u001b[0m\u001b[0mjoin\u001b[0m\u001b[0;34m(\u001b[0m\u001b[0mself\u001b[0m\u001b[0;34m.\u001b[0m\u001b[0mdirectory\u001b[0m\u001b[0;34m,\u001b[0m \u001b[0mself\u001b[0m\u001b[0;34m.\u001b[0m\u001b[0mfilename\u001b[0m\u001b[0;34m)\u001b[0m\u001b[0;34m\u001b[0m\u001b[0;34m\u001b[0m\u001b[0m\n\u001b[1;32m     79\u001b[0m         \u001b[0;32mif\u001b[0m \u001b[0;32mnot\u001b[0m \u001b[0mos\u001b[0m\u001b[0;34m.\u001b[0m\u001b[0mpath\u001b[0m\u001b[0;34m.\u001b[0m\u001b[0misfile\u001b[0m\u001b[0;34m(\u001b[0m\u001b[0mself\u001b[0m\u001b[0;34m.\u001b[0m\u001b[0mfname\u001b[0m\u001b[0;34m)\u001b[0m\u001b[0;34m:\u001b[0m\u001b[0;34m\u001b[0m\u001b[0;34m\u001b[0m\u001b[0m\n\u001b[0;32m---> 80\u001b[0;31m             \u001b[0;32mraise\u001b[0m \u001b[0mRuntimeError\u001b[0m\u001b[0;34m(\u001b[0m\u001b[0;34m\"Cannot load ATS XDMF h5 file at: {}\"\u001b[0m\u001b[0;34m.\u001b[0m\u001b[0mformat\u001b[0m\u001b[0;34m(\u001b[0m\u001b[0mself\u001b[0m\u001b[0;34m.\u001b[0m\u001b[0mfname\u001b[0m\u001b[0;34m)\u001b[0m\u001b[0;34m)\u001b[0m\u001b[0;34m\u001b[0m\u001b[0;34m\u001b[0m\u001b[0m\n\u001b[0m\u001b[1;32m     81\u001b[0m         \u001b[0mself\u001b[0m\u001b[0;34m.\u001b[0m\u001b[0md\u001b[0m \u001b[0;34m=\u001b[0m \u001b[0mh5py\u001b[0m\u001b[0;34m.\u001b[0m\u001b[0mFile\u001b[0m\u001b[0;34m(\u001b[0m\u001b[0mself\u001b[0m\u001b[0;34m.\u001b[0m\u001b[0mfname\u001b[0m\u001b[0;34m,\u001b[0m\u001b[0;34m'r'\u001b[0m\u001b[0;34m)\u001b[0m\u001b[0;34m\u001b[0m\u001b[0;34m\u001b[0m\u001b[0m\n\u001b[1;32m     82\u001b[0m         \u001b[0mself\u001b[0m\u001b[0;34m.\u001b[0m\u001b[0mloadTimes\u001b[0m\u001b[0;34m(\u001b[0m\u001b[0;34m)\u001b[0m\u001b[0;34m\u001b[0m\u001b[0;34m\u001b[0m\u001b[0m\n",
      "\u001b[0;31mRuntimeError\u001b[0m: Cannot load ATS XDMF h5 file at: ats_vis_data.h5"
     ]
    }
   ],
   "source": [
    "# load the ATS solution\n",
    "directory = \"\"\n",
    "vis = ats_xdmf.VisFile(directory)\n",
    "vis.loadMesh(columnar=True)"
   ]
  },
  {
   "cell_type": "code",
   "execution_count": null,
   "metadata": {},
   "outputs": [],
   "source": [
    "# load surface solution\n",
    "vis_surf = ats_xdmf.VisFile(directory, domain='surface')\n",
    "vis_surf.loadMesh(order=['x','y'])"
   ]
  },
  {
   "cell_type": "code",
   "execution_count": null,
   "metadata": {},
   "outputs": [],
   "source": [
    "#get subsurface coord\n",
    "xsub=vis.centroids[:,2]\n",
    "\n",
    "#get surface coord\n",
    "xsurf = vis_surf.centroids[:,0]\n",
    "xsurf = [10.25]"
   ]
  },
  {
   "cell_type": "code",
   "execution_count": null,
   "metadata": {},
   "outputs": [],
   "source": [
    "# settings for plot\n",
    "SIZE=20\n",
    "colors=['y','r','b','g','m','k']\n",
    "cycles=['0','10','18','22','24','34']\n",
    "#cycles=['0','2','4','8','10','34']"
   ]
  },
  {
   "cell_type": "code",
   "execution_count": null,
   "metadata": {},
   "outputs": [],
   "source": [
    "# plot the solution\n",
    "fig,ax = plt.subplots(figsize=[4.5,6])\n",
    "bx=ax.twiny()\n",
    "##plot_column_data.plot_subsurface(vis, ['saturation_liquid',], ax, None, cmap='jet')\n",
    "\n",
    "for T,c in zip(cycles,colors):\n",
    "    \n",
    "    S=vis.get('saturation_liquid',T)\n",
    "    pd = vis_surf.get('surface-ponded_depth',T)    \n",
    "    label=str(vis.times[int(T)]*365.25)+' days'\n",
    "    \n",
    "    ax.plot(S,xsub,c,linewidth=2,label=label)\n",
    "    bx.plot(pd,xsurf,c+'o',markersize=12,linewidth=2)\n",
    "    ax.set_xlabel('saturation [-]',fontsize=SIZE) #,color='g')\n",
    "    bx.set_xlabel('ponded depth [m]',fontsize=SIZE) #,color='b')\n",
    "    ax.set_ylabel('height [m]',fontsize=SIZE)\n",
    "    \n",
    "ax.tick_params(axis='x', which='major', labelsize=SIZE) #, labelcolor='g')\n",
    "bx.tick_params(axis='x', which='major', labelsize=SIZE) #, labelcolor='b')\n",
    "\n",
    "ax.tick_params(axis='y', which='major', labelsize=SIZE)\n",
    "\n",
    "#ax.set_xlim([0.5,1.02])\n",
    "#bx.set_xlim([-0.01,0.065])\n",
    "ax.set_ylim([5,10.5])\n",
    "fig.tight_layout()\n",
    "fig.legend(loc='center',fontsize=SIZE*0.8)\n",
    "fig.savefig('water.png',format='png')"
   ]
  },
  {
   "cell_type": "code",
   "execution_count": null,
   "metadata": {},
   "outputs": [],
   "source": [
    "So  = np.array(vis.get('saturation_liquid','0'))\n",
    "pdn = np.array(vis_surf.get('surface-total_component_concentration.cell.tracer','34')) \\\n",
    "    * np.array(vis.get('molar_density_liquid.cell.0','34')) \\\n",
    "    / np.array(vis.get('mass_density_liquid.cell.0','34'))\n",
    "\n",
    "mix = (np.ones(len(So)) - So) * pdn"
   ]
  },
  {
   "cell_type": "code",
   "execution_count": null,
   "metadata": {},
   "outputs": [],
   "source": [
    "# plot the solution\n",
    "fig,ax = plt.subplots(figsize=[4.5,6])\n",
    "bx=ax.twiny()\n",
    "##plot_column_data.plot_subsurface(vis, ['saturation_liquid',], ax, None, cmap='jet')\n",
    "\n",
    "for T,c in zip(cycles,colors):\n",
    "    \n",
    "    S  = np.array(vis.get('total_component_concentration.cell.tracer',T)) \\\n",
    "       * np.array(vis.get('molar_density_liquid.cell.0',T)) \\\n",
    "       / np.array(vis.get('mass_density_liquid.cell.0',T))\n",
    "    \n",
    "    pd = np.array(vis_surf.get('surface-total_component_concentration.cell.tracer',T)) \\\n",
    "       * np.array(vis_surf.get('surface-molar_density_liquid.cell.0',T)) \\\n",
    "       / np.array(vis_surf.get('surface-mass_density_liquid.cell.0',T))\n",
    "    \n",
    "    label=str(vis.times[int(T)]*365.25)+' days'\n",
    "    \n",
    "    ax.plot(S,xsub,c,linewidth=2,label=label)\n",
    "    bx.plot(pd,xsurf,c+'o',markersize=12,linewidth=2)    \n",
    "\n",
    "    ax.set_xlabel(r'concentration [mol L$^{-1}$]',fontsize=SIZE) #,color='g')\n",
    "    bx.set_xlabel(r'concentration [mol L$^{-1}$]',fontsize=SIZE) #,color='b')\n",
    "\n",
    "    ax.set_ylabel('height [m]',fontsize=SIZE)\n",
    "    \n",
    "    \n",
    "#ax.plot(mix,xsub,'c'+'--',markersize=12,linewidth=2)\n",
    "\n",
    "ax.tick_params(axis='x', which='major', labelsize=SIZE) #, labelcolor='g')\n",
    "bx.tick_params(axis='x', which='major', labelsize=SIZE) #, labelcolor='b')\n",
    "\n",
    "ax.tick_params(axis='y', which='major', labelsize=SIZE)\n",
    "\n",
    "#ax.set_xlim([0.5,1.02])\n",
    "#bx.set_xlim([-0.01,0.065])\n",
    "ax.set_ylim([5,10.5])\n",
    "fig.tight_layout()\n",
    "fig.legend(loc='center',fontsize=SIZE*0.8)\n",
    "fig.savefig('concentrations.png',format='png')"
   ]
  },
  {
   "cell_type": "markdown",
   "metadata": {},
   "source": [
    "## Example: 2D hillslope and reactive transport with mineral dissolution\n",
    "\n",
    "This demo considers a simplified representation of a headwater catchment hillslope. The simulation seeks to capture its hydrological and geochemical response to evolving precipitation inputs over a period of 200 days that include wet and dry periods. Over most of the hillslope rainwater infiltrates into the subsurface, flows downgradient and discharges to the surface near the hillslope toe. During wet periods, groundwater discharge mixes with rain water in this region of the surface. During dry periods, surface water in this region is exclusively from groundwater dicharge.\n",
    "\n",
    "The geochemical problem considers only the carbonate system with 5 primary species, 6 secondary (equilibrium) complexes, and calcite. Aqueous complexation is considered both in the surface and subsurface domains, while calcite dissolution is considered only in the subsurface domain. Rainwater drives calcite dissolution in the subsurface before it equilibrates at depth. Two non-reactive tracers, one in the subsurface and one in the rainwater, are used to unravel mixing processes."
   ]
  },
  {
   "cell_type": "markdown",
   "metadata": {},
   "source": [
    "## Domain and Boundary Conditions\n",
    "\n",
    "The hillslope is 1000-m long and 45-m deep with an average slope of 0.085\n",
    "\n",
    "* **Subsurface domain**: The upstream, downstream and bottom boundaries of the subsurface domain are no-flow boundaries. The top boundary is coupled with surface domain. \n",
    "\n",
    "* **Surface domain**: Rain is applied as a source terms in the surface flow PK. A free flow (seepage face) boundary condition is set at the hillslope toe."
   ]
  },
  {
   "cell_type": "code",
   "execution_count": null,
   "metadata": {},
   "outputs": [],
   "source": [
    "#figure settings\n",
    "SIZE=18\n",
    "mol_to_m3 = 1.8e-5\n",
    "m3_to_mol = 5.55e4\n",
    "density = 997.1\n",
    "\n",
    "#MyFormatter = FuncFormatter(sn.sci_notation)\n",
    "#path_dat = './dat/'"
   ]
  },
  {
   "cell_type": "markdown",
   "metadata": {},
   "source": [
    "## Integrated Hydrology\n",
    "\n",
    "Periodic rainfall is the only source of water in the model, alternating dry with wet cycles with rain of different intensity. Below are the values of recharge applied uniformly on the surface at an observation point.\n",
    "\n",
    "The flow rate (surface-mass_flux) at the observation point of the hillslope toe (on the surface) shows quick initial drainage, which slows down with time and is followed by subsequent increases in response to precipitation cycles. The hillslope is draining during the entire simulated time.\n",
    "\n",
    "In the first 50 days, flow is all groundwater as no precipitation is assumed in the simulation.\n",
    "In the period of 50-75 days when rain starts, flow is a mixing of groundwater and surface water."
   ]
  },
  {
   "cell_type": "code",
   "execution_count": null,
   "metadata": {},
   "outputs": [],
   "source": [
    "fig, ax = plt.subplots(figsize=(8,4))\n",
    "\n",
    "rain = np.loadtxt('surface-water_source_sigmoid.dat', skiprows=12)\n",
    "\n",
    "ax.plot(rain[:,0]/86400, rain[:,1]*86400*1000, 'k-', label='Precipitation')\n",
    "\n",
    "ax.set_xlabel(\"Time (d)\",fontsize=SIZE)\n",
    "ax.set_ylabel(\"Precipitation rate ($mm/day$)\",fontsize=SIZE)\n",
    "ax.set_xticks([0,25,50,75,100,125,150,175,200])\n",
    "\n",
    "ax.tick_params(axis='both', which='major', labelsize=SIZE)\n",
    "\n",
    "ax.set_xlim([0,200])\n",
    "ax.set_ylim([0,190])\n",
    "\n",
    "#fig.legend(fontsize=12, loc='upper left')\n",
    "plt.show()"
   ]
  },
  {
   "cell_type": "code",
   "execution_count": null,
   "metadata": {},
   "outputs": [],
   "source": [
    "fig, ax = plt.subplots(figsize=(8,4))\n",
    "\n",
    "discharge = np.loadtxt('surface_outlet_flux_crunch_sigmoid.dat', skiprows=12) \n",
    "\n",
    "ax.plot(discharge[:,0]/86400, discharge[:,1]*mol_to_m3, 'k-', label='discharge')\n",
    "\n",
    "#ax.axes.yaxis.set_major_formatter(MyFormatter)\n",
    "\n",
    "ax.set_xlabel(\"Time (d)\",fontsize=SIZE)\n",
    "ax.set_ylabel(\"Discharge rate ($m^3/day$)\",fontsize=SIZE)\n",
    "ax.set_xticks([0,25,50,75,100,125,150,175,200])\n",
    "\n",
    "ax.tick_params(axis='both', which='major', labelsize=SIZE)\n",
    "\n",
    "ax.set_xlim([0,200])\n",
    "ax.set_ylim([0,1.6e-3])\n",
    "\n",
    "#fig.legend(fontsize=12, loc='upper left')\n",
    "plt.show()"
   ]
  },
  {
   "cell_type": "markdown",
   "metadata": {},
   "source": [
    "## Reactive Transport\n",
    "\n",
    "We consider transport of 11 species, of which 5 are primary and 6 secondary. Only total component concentrations are transported by ATS, thus must be specified in each of the Transport PKs, with the same name and in the same order as the primary species in the geochemical engine. For example, for subsurface transport. Calcite is the only mineral considered.\n",
    "\n",
    "## Sources and ICs for transport\n",
    "\n",
    "The only external **source** of solutes is in the rain water. As with the surface flow problem, in the surface transport PK, a source term of solutes must specified in the surface. Here it is done as a geochemical condition named **rain**. The condition name must match the one available in the engine's input file (it is case-sensitive). Rainwater is equlibrated with atmospheric CO2.\n",
    "\n",
    "We use the initial conditions in chemistry PKs to specify the presence (subsurface) or absence (surface) of calcite. This is done in the engine input file, where the volume fraction and surface area are specified. For example, the initial condition in the subsurface is named **initial**, and in the surface is named **surfini**.\n",
    "\n",
    "## Geochemical exports\n",
    "\n",
    "The concentration breakthrough curves are evaluated at the hillslope toe on the surface. The effluent chemical exports present the mixing processes and calcite reaction simulated within the hillslope domain.\n",
    "\n",
    "Key points:\n",
    "\n",
    "- Tracer2 has the same initial and boundary conditions as Ca++, therefore, the difference between Tracer2 and Ca++ is due to calcite reaction\n",
    "\n",
    "- Solute concentration (except Tracer1) decrease when recharge period starts, because their concentrations are low in the rain water thus mixing with groundwater in the discharge at the hillslope toe. Tracer1 is high in the rain water thus its concentration increases when recharge period starts."
   ]
  },
  {
   "cell_type": "code",
   "execution_count": null,
   "metadata": {},
   "outputs": [],
   "source": [
    "#total = np.loadtxt('surface_total_concentration_crunch_sigmoid.dat', skiprows=12) \n",
    "#primary = np.loadtxt('surface_free_ion_species_crunch_sigmoid.dat', skiprows=12)\n",
    "\n",
    "#for now this is hardwired to visit pick output-- Needs to be updated\n",
    "curves='curve/'\n",
    "\n",
    "total_Ca = np.loadtxt(curves+'total_Ca.curve', skiprows=1) \n",
    "total_HCO3 = np.loadtxt(curves+'total_HCO3.curve', skiprows=1) \n",
    "total_H = np.loadtxt(curves+'total_H+.curve', skiprows=1) \n",
    "total_Tracer1 = np.loadtxt(curves+'total_Tracer1.curve', skiprows=1) \n",
    "total_Tracer2 = np.loadtxt(curves+'total_Tracer2.curve', skiprows=1) \n",
    "#primary = np.loadtxt('surface_free_ion_species_crunch_sigmoid.dat', skiprows=12)\n",
    "\n",
    "threshold = 3e-5"
   ]
  },
  {
   "cell_type": "code",
   "execution_count": null,
   "metadata": {},
   "outputs": [],
   "source": [
    "fig, ax = plt.subplots(2, 1,figsize=(10,9))\n",
    "\n",
    "# top\n",
    "bx = ax[0].twinx()\n",
    "\n",
    "p1 = ax[0].plot(discharge[:,0]/86400, discharge[:,1]*mol_to_m3, 'r-', label='disc.')\n",
    "ax[0].set_xlabel(\"Time (d)\",fontsize=SIZE)\n",
    "ax[0].set_ylabel(\"Discharge rate ($m^3/day$)\",fontsize=SIZE)\n",
    "\n",
    "ax[0].set_xticks([0,25,50,75,100,125,150,175,200])\n",
    "ax[0].set_xlim([0,200])\n",
    "ax[0].tick_params(axis='both', which='major', labelsize=SIZE)\n",
    "\n",
    "#ax[0].axes.yaxis.set_major_formatter(MyFormatter)\n",
    "\n",
    "p2 = bx.plot(rain[:,0]/86400, rain[:,1]*86400*1000, 'k--', label='prec.')\n",
    "\n",
    "bx.set_ylabel(\"Precipitation rate ($mm/day$)\",fontsize=SIZE)\n",
    "bx.tick_params(axis='both', which='major', labelsize=SIZE)\n",
    "\n",
    "px=p1+p2\n",
    "lpx = [l.get_label() for l in px]\n",
    "ax[0].legend(px,lpx,fontsize=14, loc='lower right')\n",
    "\n",
    "#.set_xlabel(\"Time (d)\",fontsize=SIZE)\n",
    "#ax[0][1].set_xticks([0,25,50,75,100,125,150,175,200])\n",
    "#ax[0][1].set_xlim([0,200])\n",
    "\n",
    "# bottom\n",
    "h1=ax[1].plot(365.25*total_Ca[:,0][total_Ca[:,1]<threshold], m3_to_mol/density*total_Ca[:,1][total_Ca[:,1]<threshold], 'k-', label='Calcium')\n",
    "h2=ax[1].plot(365.25*total_Tracer1[:,0][total_Ca[:,1]<threshold], m3_to_mol/density*total_Tracer1[:,1][total_Ca[:,1]<threshold], 'r-', label='Tracer1')\n",
    "h3=ax[1].plot(365.25*total_Tracer2[:,0][total_Ca[:,1]<threshold], m3_to_mol/density*total_Tracer2[:,1][total_Ca[:,1]<threshold], 'b-', label='Tracer2')\n",
    "\n",
    "h4=ax[1].plot(365.25*(total_Tracer1[:,0])[total_Ca[:,1]<threshold], \\\n",
    "              m3_to_mol/density*(total_Tracer1[:,1]+total_Tracer2[:,1])[total_Ca[:,1]<threshold], \\\n",
    "              'g--', label='T1+T2')\n",
    "\n",
    "\n",
    "hx=h1+h2+h3+h4\n",
    "lhx = [l.get_label() for l in hx]\n",
    "ax[1].legend(hx,lhx,fontsize=14, loc='lower right')\n",
    "\n",
    "#ax[1].axes.yaxis.set_major_formatter(MyFormatter)\n",
    "ax[1].set_xlabel(\"Time (d)\",fontsize=SIZE)\n",
    "ax[1].set_ylabel(\"Concentration ($mol/L$)\",fontsize=SIZE)\n",
    "ax[1].set_xticks([0,25,50,75,100,125,150,175,200])\n",
    "ax[1].set_xlim([0,200])\n",
    "ax[1].tick_params(axis='both', which='major', labelsize=SIZE)\n",
    "\n",
    "#ax.set_ylim([0,1e-3])\n",
    "#ax[0][0].tick_params(axis='both', which='major', labelsize=SIZE)\n",
    "\n",
    "\n",
    "fig.tight_layout()\n",
    "fig.savefig('hillslope-outlet.png',format='png')\n",
    "plt.show()"
   ]
  },
  {
   "cell_type": "code",
   "execution_count": null,
   "metadata": {},
   "outputs": [],
   "source": []
  }
 ],
 "metadata": {
  "kernelspec": {
   "display_name": "Python 3 (ipykernel)",
   "language": "python",
   "name": "python3"
  },
  "language_info": {
   "codemirror_mode": {
    "name": "ipython",
    "version": 3
   },
   "file_extension": ".py",
   "mimetype": "text/x-python",
   "name": "python",
   "nbconvert_exporter": "python",
   "pygments_lexer": "ipython3",
   "version": "3.9.9"
  }
 },
 "nbformat": 4,
 "nbformat_minor": 4
}
